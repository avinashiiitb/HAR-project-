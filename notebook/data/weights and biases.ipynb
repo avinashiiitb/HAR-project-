{
 "cells": [
  {
   "cell_type": "code",
   "execution_count": 1,
   "metadata": {},
   "outputs": [],
   "source": [
    "import tensorflow as tf\n",
    "# tf.enable_eager_execution()\n",
    "import os\n",
    "import itertools\n",
    "import numpy as np\n",
    "import pandas as pd\n",
    "import cv2\n",
    "import matplotlib.pyplot as plt\n",
    "# from hilbert import hilbertCurve\n",
    "import imgaug.augmenters as iaa\n",
    "import numpy as np\n",
    "import matplotlib.image as mpimg\n",
    "import matplotlib.pyplot as plt\n",
    "\n",
    "from tensorflow.keras import models,layers\n",
    "from tensorflow.keras.models import Model\n",
    "from tensorflow.keras.layers import Flatten,Activation,BatchNormalization\n",
    "from tensorflow.keras.optimizers import Adam\n",
    "import matplotlib.pyplot as plt\n",
    "from tqdm import tqdm\n",
    "from skimage.transform import rotate,rescale\n",
    "from skimage.util import random_noise\n",
    "from skimage.filters import gaussian\n",
    "from scipy import ndimage\n",
    "import numpy as np\n",
    "import sklearn\n",
    "import seaborn as sns\n",
    "import nbformat\n",
    "import plotly.express as px\n",
    "import typing\n",
    "import tensorflow_addons as tfa\n",
    "from tensorflow.keras import layers\n",
    "from tensorflow import keras\n",
    "\n",
    "import matplotlib.pyplot as plt\n",
    "import tensorflow_addons as tfa\n",
    "import tensorflow as tf\n",
    "import numpy as np\n"
   ]
  },
  {
   "cell_type": "code",
   "execution_count": 2,
   "metadata": {},
   "outputs": [
    {
     "data": {
      "text/plain": [
       "path     C:/Users/avina/Downloads/77\\activity_spectogra...\n",
       "label                                                   19\n",
       "Name: 638, dtype: object"
      ]
     },
     "execution_count": 2,
     "metadata": {},
     "output_type": "execute_result"
    }
   ],
   "source": [
    "label = ['05' ,  '06' , '07' , '08' , '09' , '10' , '11' ,'16' , '17' , '18' , '19']\n",
    "\n",
    "dirname1 = []\n",
    "filename1 = []\n",
    "fullpath = []\n",
    "for dirname, _, filenames in os.walk(\"C:/Users/avina/Downloads/77\"):\n",
    "    for filename in filenames:\n",
    "        dirname1.append((dirname))\n",
    "        filename1.append(filename)\n",
    "        fullpath.append((os.path.join(dirname, filename)))\n",
    "\n",
    "\n",
    "df = pd.DataFrame(columns=['path' , 'label' ])\n",
    "label1 = []\n",
    "path = []\n",
    "def create_dataframe(fullpath,label):\n",
    "            \n",
    "    for i in range(len(fullpath)):\n",
    "        for j in range(len(label)):\n",
    "            if (fullpath[i].split('/')[4][29:31]== label[j]):\n",
    "                path.append(fullpath[i])\n",
    "                label1.append(label[j])\n",
    "    \n",
    "           \n",
    "    return path,label1  \n",
    "\n",
    "path,label2=create_dataframe(fullpath,label)\n",
    "df['path'] = path\n",
    "df['label'] = label2\n",
    "final = pd.DataFrame(df)\n",
    "final.iloc[638]"
   ]
  },
  {
   "cell_type": "code",
   "execution_count": 3,
   "metadata": {},
   "outputs": [
    {
     "name": "stdout",
     "output_type": "stream",
     "text": [
      "del\n"
     ]
    }
   ],
   "source": [
    "labelname = []\n",
    "classvalue = []\n",
    "\n",
    "for i in range(len(df)):\n",
    "    for j in range(len(label)):\n",
    "        if (df['label'][i] ==  label[j]):\n",
    "            if (label[j] == '05'):\n",
    "                labelname.append('Walkingtowards')\n",
    "                classvalue.append('00')\n",
    "            elif (label[j] =='06'):\n",
    "                labelname.append('walkingaway')\n",
    "                classvalue.append('01')\n",
    "            elif (label[j] =='07'):\n",
    "                labelname.append('pickingobject')\n",
    "                classvalue.append('02')\n",
    "            elif (label[j] =='08'):\n",
    "                labelname.append('bending')\n",
    "                classvalue.append('03')\n",
    "            elif (label[j] =='09'):\n",
    "                labelname.append('sitting')\n",
    "                classvalue.append('04')\n",
    "            elif (label[j] =='10'):\n",
    "                labelname.append('kneeling')\n",
    "                classvalue.append('05')\n",
    "            elif (label[j] =='11'):\n",
    "                labelname.append('crawling')\n",
    "                classvalue.append('06')\n",
    "            elif (label[j] =='16'):\n",
    "                labelname.append('walkingontoes')\n",
    "                classvalue.append('07')\n",
    "            elif (label[j] =='17'):\n",
    "                labelname.append('limping')\n",
    "                classvalue.append('08')\n",
    "            elif (label[j] =='18'):\n",
    "                labelname.append('shortsteps')\n",
    "                classvalue.append('09')\n",
    "            else :\n",
    "                labelname.append('scissorsgait')\n",
    "                classvalue.append('10')\n",
    "\n",
    "df['labelname'] = labelname\n",
    "df['classvalue'] = classvalue\n",
    "\n",
    "\n",
    "\n",
    "for i in range(len(df)-1):\n",
    "    path = df['path'].iloc[i]\n",
    "    if(path == 'C:/Users/avina/Downloads/77\\\\activity_spectogram_77GHz\\\\08_bending\\\\activity_spectogram_77GHz - Shortcut.lnk'):\n",
    "        df.drop(index = i,axis =0,inplace = True)\n",
    "        print('del')\n"
   ]
  },
  {
   "cell_type": "code",
   "execution_count": 4,
   "metadata": {},
   "outputs": [],
   "source": [
    "y_train = df['classvalue']\n",
    "y_train\n",
    "y_train = y_train.to_numpy()\n",
    "\n",
    "from sklearn.model_selection import train_test_split\n",
    "x_train,x_test,y_train,y_test =train_test_split(df,y_train, test_size = 0.20 , shuffle = True,random_state = 42,stratify=y_train)"
   ]
  },
  {
   "cell_type": "code",
   "execution_count": 5,
   "metadata": {},
   "outputs": [
    {
     "data": {
      "application/vnd.plotly.v1+json": {
       "config": {
        "plotlyServerURL": "https://plot.ly"
       },
       "data": [
        {
         "alignmentgroup": "True",
         "bingroup": "x",
         "hovertemplate": "x=%{x}<br>count=%{y}<extra></extra>",
         "legendgroup": "",
         "marker": {
          "color": "#636efa",
          "pattern": {
           "shape": ""
          }
         },
         "name": "",
         "offsetgroup": "",
         "orientation": "v",
         "showlegend": false,
         "type": "histogram",
         "x": [
          "05",
          "10",
          "08",
          "03",
          "07",
          "00",
          "03",
          "00",
          "04",
          "09",
          "08",
          "02",
          "10",
          "00",
          "10",
          "00",
          "05",
          "09",
          "07",
          "05",
          "10",
          "05",
          "01",
          "03",
          "01",
          "06",
          "00",
          "01",
          "09",
          "10",
          "04",
          "06",
          "10",
          "03",
          "01",
          "08",
          "02",
          "01",
          "02",
          "08",
          "09",
          "07",
          "05",
          "09",
          "07",
          "06",
          "01",
          "06",
          "05",
          "04",
          "07",
          "04",
          "02",
          "06",
          "01",
          "05",
          "10",
          "04",
          "02",
          "05",
          "09",
          "00",
          "07",
          "08",
          "06",
          "01",
          "07",
          "10",
          "05",
          "10",
          "01",
          "02",
          "00",
          "00",
          "03",
          "06",
          "02",
          "07",
          "02",
          "10",
          "02",
          "08",
          "04",
          "06",
          "09",
          "04",
          "06",
          "03",
          "08",
          "01",
          "09",
          "04",
          "08",
          "05",
          "10",
          "04",
          "07",
          "04",
          "03",
          "07",
          "01",
          "08",
          "03",
          "00",
          "01",
          "00",
          "07",
          "03",
          "03",
          "06",
          "02",
          "04",
          "00",
          "02",
          "07",
          "09",
          "08",
          "06",
          "03",
          "00",
          "05",
          "09",
          "08",
          "09",
          "06",
          "03",
          "05",
          "10",
          "09",
          "08"
         ],
         "xaxis": "x",
         "yaxis": "y"
        }
       ],
       "layout": {
        "barmode": "relative",
        "legend": {
         "tracegroupgap": 0
        },
        "margin": {
         "t": 60
        },
        "template": {
         "data": {
          "bar": [
           {
            "error_x": {
             "color": "#2a3f5f"
            },
            "error_y": {
             "color": "#2a3f5f"
            },
            "marker": {
             "line": {
              "color": "#E5ECF6",
              "width": 0.5
             },
             "pattern": {
              "fillmode": "overlay",
              "size": 10,
              "solidity": 0.2
             }
            },
            "type": "bar"
           }
          ],
          "barpolar": [
           {
            "marker": {
             "line": {
              "color": "#E5ECF6",
              "width": 0.5
             },
             "pattern": {
              "fillmode": "overlay",
              "size": 10,
              "solidity": 0.2
             }
            },
            "type": "barpolar"
           }
          ],
          "carpet": [
           {
            "aaxis": {
             "endlinecolor": "#2a3f5f",
             "gridcolor": "white",
             "linecolor": "white",
             "minorgridcolor": "white",
             "startlinecolor": "#2a3f5f"
            },
            "baxis": {
             "endlinecolor": "#2a3f5f",
             "gridcolor": "white",
             "linecolor": "white",
             "minorgridcolor": "white",
             "startlinecolor": "#2a3f5f"
            },
            "type": "carpet"
           }
          ],
          "choropleth": [
           {
            "colorbar": {
             "outlinewidth": 0,
             "ticks": ""
            },
            "type": "choropleth"
           }
          ],
          "contour": [
           {
            "colorbar": {
             "outlinewidth": 0,
             "ticks": ""
            },
            "colorscale": [
             [
              0,
              "#0d0887"
             ],
             [
              0.1111111111111111,
              "#46039f"
             ],
             [
              0.2222222222222222,
              "#7201a8"
             ],
             [
              0.3333333333333333,
              "#9c179e"
             ],
             [
              0.4444444444444444,
              "#bd3786"
             ],
             [
              0.5555555555555556,
              "#d8576b"
             ],
             [
              0.6666666666666666,
              "#ed7953"
             ],
             [
              0.7777777777777778,
              "#fb9f3a"
             ],
             [
              0.8888888888888888,
              "#fdca26"
             ],
             [
              1,
              "#f0f921"
             ]
            ],
            "type": "contour"
           }
          ],
          "contourcarpet": [
           {
            "colorbar": {
             "outlinewidth": 0,
             "ticks": ""
            },
            "type": "contourcarpet"
           }
          ],
          "heatmap": [
           {
            "colorbar": {
             "outlinewidth": 0,
             "ticks": ""
            },
            "colorscale": [
             [
              0,
              "#0d0887"
             ],
             [
              0.1111111111111111,
              "#46039f"
             ],
             [
              0.2222222222222222,
              "#7201a8"
             ],
             [
              0.3333333333333333,
              "#9c179e"
             ],
             [
              0.4444444444444444,
              "#bd3786"
             ],
             [
              0.5555555555555556,
              "#d8576b"
             ],
             [
              0.6666666666666666,
              "#ed7953"
             ],
             [
              0.7777777777777778,
              "#fb9f3a"
             ],
             [
              0.8888888888888888,
              "#fdca26"
             ],
             [
              1,
              "#f0f921"
             ]
            ],
            "type": "heatmap"
           }
          ],
          "heatmapgl": [
           {
            "colorbar": {
             "outlinewidth": 0,
             "ticks": ""
            },
            "colorscale": [
             [
              0,
              "#0d0887"
             ],
             [
              0.1111111111111111,
              "#46039f"
             ],
             [
              0.2222222222222222,
              "#7201a8"
             ],
             [
              0.3333333333333333,
              "#9c179e"
             ],
             [
              0.4444444444444444,
              "#bd3786"
             ],
             [
              0.5555555555555556,
              "#d8576b"
             ],
             [
              0.6666666666666666,
              "#ed7953"
             ],
             [
              0.7777777777777778,
              "#fb9f3a"
             ],
             [
              0.8888888888888888,
              "#fdca26"
             ],
             [
              1,
              "#f0f921"
             ]
            ],
            "type": "heatmapgl"
           }
          ],
          "histogram": [
           {
            "marker": {
             "pattern": {
              "fillmode": "overlay",
              "size": 10,
              "solidity": 0.2
             }
            },
            "type": "histogram"
           }
          ],
          "histogram2d": [
           {
            "colorbar": {
             "outlinewidth": 0,
             "ticks": ""
            },
            "colorscale": [
             [
              0,
              "#0d0887"
             ],
             [
              0.1111111111111111,
              "#46039f"
             ],
             [
              0.2222222222222222,
              "#7201a8"
             ],
             [
              0.3333333333333333,
              "#9c179e"
             ],
             [
              0.4444444444444444,
              "#bd3786"
             ],
             [
              0.5555555555555556,
              "#d8576b"
             ],
             [
              0.6666666666666666,
              "#ed7953"
             ],
             [
              0.7777777777777778,
              "#fb9f3a"
             ],
             [
              0.8888888888888888,
              "#fdca26"
             ],
             [
              1,
              "#f0f921"
             ]
            ],
            "type": "histogram2d"
           }
          ],
          "histogram2dcontour": [
           {
            "colorbar": {
             "outlinewidth": 0,
             "ticks": ""
            },
            "colorscale": [
             [
              0,
              "#0d0887"
             ],
             [
              0.1111111111111111,
              "#46039f"
             ],
             [
              0.2222222222222222,
              "#7201a8"
             ],
             [
              0.3333333333333333,
              "#9c179e"
             ],
             [
              0.4444444444444444,
              "#bd3786"
             ],
             [
              0.5555555555555556,
              "#d8576b"
             ],
             [
              0.6666666666666666,
              "#ed7953"
             ],
             [
              0.7777777777777778,
              "#fb9f3a"
             ],
             [
              0.8888888888888888,
              "#fdca26"
             ],
             [
              1,
              "#f0f921"
             ]
            ],
            "type": "histogram2dcontour"
           }
          ],
          "mesh3d": [
           {
            "colorbar": {
             "outlinewidth": 0,
             "ticks": ""
            },
            "type": "mesh3d"
           }
          ],
          "parcoords": [
           {
            "line": {
             "colorbar": {
              "outlinewidth": 0,
              "ticks": ""
             }
            },
            "type": "parcoords"
           }
          ],
          "pie": [
           {
            "automargin": true,
            "type": "pie"
           }
          ],
          "scatter": [
           {
            "fillpattern": {
             "fillmode": "overlay",
             "size": 10,
             "solidity": 0.2
            },
            "type": "scatter"
           }
          ],
          "scatter3d": [
           {
            "line": {
             "colorbar": {
              "outlinewidth": 0,
              "ticks": ""
             }
            },
            "marker": {
             "colorbar": {
              "outlinewidth": 0,
              "ticks": ""
             }
            },
            "type": "scatter3d"
           }
          ],
          "scattercarpet": [
           {
            "marker": {
             "colorbar": {
              "outlinewidth": 0,
              "ticks": ""
             }
            },
            "type": "scattercarpet"
           }
          ],
          "scattergeo": [
           {
            "marker": {
             "colorbar": {
              "outlinewidth": 0,
              "ticks": ""
             }
            },
            "type": "scattergeo"
           }
          ],
          "scattergl": [
           {
            "marker": {
             "colorbar": {
              "outlinewidth": 0,
              "ticks": ""
             }
            },
            "type": "scattergl"
           }
          ],
          "scattermapbox": [
           {
            "marker": {
             "colorbar": {
              "outlinewidth": 0,
              "ticks": ""
             }
            },
            "type": "scattermapbox"
           }
          ],
          "scatterpolar": [
           {
            "marker": {
             "colorbar": {
              "outlinewidth": 0,
              "ticks": ""
             }
            },
            "type": "scatterpolar"
           }
          ],
          "scatterpolargl": [
           {
            "marker": {
             "colorbar": {
              "outlinewidth": 0,
              "ticks": ""
             }
            },
            "type": "scatterpolargl"
           }
          ],
          "scatterternary": [
           {
            "marker": {
             "colorbar": {
              "outlinewidth": 0,
              "ticks": ""
             }
            },
            "type": "scatterternary"
           }
          ],
          "surface": [
           {
            "colorbar": {
             "outlinewidth": 0,
             "ticks": ""
            },
            "colorscale": [
             [
              0,
              "#0d0887"
             ],
             [
              0.1111111111111111,
              "#46039f"
             ],
             [
              0.2222222222222222,
              "#7201a8"
             ],
             [
              0.3333333333333333,
              "#9c179e"
             ],
             [
              0.4444444444444444,
              "#bd3786"
             ],
             [
              0.5555555555555556,
              "#d8576b"
             ],
             [
              0.6666666666666666,
              "#ed7953"
             ],
             [
              0.7777777777777778,
              "#fb9f3a"
             ],
             [
              0.8888888888888888,
              "#fdca26"
             ],
             [
              1,
              "#f0f921"
             ]
            ],
            "type": "surface"
           }
          ],
          "table": [
           {
            "cells": {
             "fill": {
              "color": "#EBF0F8"
             },
             "line": {
              "color": "white"
             }
            },
            "header": {
             "fill": {
              "color": "#C8D4E3"
             },
             "line": {
              "color": "white"
             }
            },
            "type": "table"
           }
          ]
         },
         "layout": {
          "annotationdefaults": {
           "arrowcolor": "#2a3f5f",
           "arrowhead": 0,
           "arrowwidth": 1
          },
          "autotypenumbers": "strict",
          "coloraxis": {
           "colorbar": {
            "outlinewidth": 0,
            "ticks": ""
           }
          },
          "colorscale": {
           "diverging": [
            [
             0,
             "#8e0152"
            ],
            [
             0.1,
             "#c51b7d"
            ],
            [
             0.2,
             "#de77ae"
            ],
            [
             0.3,
             "#f1b6da"
            ],
            [
             0.4,
             "#fde0ef"
            ],
            [
             0.5,
             "#f7f7f7"
            ],
            [
             0.6,
             "#e6f5d0"
            ],
            [
             0.7,
             "#b8e186"
            ],
            [
             0.8,
             "#7fbc41"
            ],
            [
             0.9,
             "#4d9221"
            ],
            [
             1,
             "#276419"
            ]
           ],
           "sequential": [
            [
             0,
             "#0d0887"
            ],
            [
             0.1111111111111111,
             "#46039f"
            ],
            [
             0.2222222222222222,
             "#7201a8"
            ],
            [
             0.3333333333333333,
             "#9c179e"
            ],
            [
             0.4444444444444444,
             "#bd3786"
            ],
            [
             0.5555555555555556,
             "#d8576b"
            ],
            [
             0.6666666666666666,
             "#ed7953"
            ],
            [
             0.7777777777777778,
             "#fb9f3a"
            ],
            [
             0.8888888888888888,
             "#fdca26"
            ],
            [
             1,
             "#f0f921"
            ]
           ],
           "sequentialminus": [
            [
             0,
             "#0d0887"
            ],
            [
             0.1111111111111111,
             "#46039f"
            ],
            [
             0.2222222222222222,
             "#7201a8"
            ],
            [
             0.3333333333333333,
             "#9c179e"
            ],
            [
             0.4444444444444444,
             "#bd3786"
            ],
            [
             0.5555555555555556,
             "#d8576b"
            ],
            [
             0.6666666666666666,
             "#ed7953"
            ],
            [
             0.7777777777777778,
             "#fb9f3a"
            ],
            [
             0.8888888888888888,
             "#fdca26"
            ],
            [
             1,
             "#f0f921"
            ]
           ]
          },
          "colorway": [
           "#636efa",
           "#EF553B",
           "#00cc96",
           "#ab63fa",
           "#FFA15A",
           "#19d3f3",
           "#FF6692",
           "#B6E880",
           "#FF97FF",
           "#FECB52"
          ],
          "font": {
           "color": "#2a3f5f"
          },
          "geo": {
           "bgcolor": "white",
           "lakecolor": "white",
           "landcolor": "#E5ECF6",
           "showlakes": true,
           "showland": true,
           "subunitcolor": "white"
          },
          "hoverlabel": {
           "align": "left"
          },
          "hovermode": "closest",
          "mapbox": {
           "style": "light"
          },
          "paper_bgcolor": "white",
          "plot_bgcolor": "#E5ECF6",
          "polar": {
           "angularaxis": {
            "gridcolor": "white",
            "linecolor": "white",
            "ticks": ""
           },
           "bgcolor": "#E5ECF6",
           "radialaxis": {
            "gridcolor": "white",
            "linecolor": "white",
            "ticks": ""
           }
          },
          "scene": {
           "xaxis": {
            "backgroundcolor": "#E5ECF6",
            "gridcolor": "white",
            "gridwidth": 2,
            "linecolor": "white",
            "showbackground": true,
            "ticks": "",
            "zerolinecolor": "white"
           },
           "yaxis": {
            "backgroundcolor": "#E5ECF6",
            "gridcolor": "white",
            "gridwidth": 2,
            "linecolor": "white",
            "showbackground": true,
            "ticks": "",
            "zerolinecolor": "white"
           },
           "zaxis": {
            "backgroundcolor": "#E5ECF6",
            "gridcolor": "white",
            "gridwidth": 2,
            "linecolor": "white",
            "showbackground": true,
            "ticks": "",
            "zerolinecolor": "white"
           }
          },
          "shapedefaults": {
           "line": {
            "color": "#2a3f5f"
           }
          },
          "ternary": {
           "aaxis": {
            "gridcolor": "white",
            "linecolor": "white",
            "ticks": ""
           },
           "baxis": {
            "gridcolor": "white",
            "linecolor": "white",
            "ticks": ""
           },
           "bgcolor": "#E5ECF6",
           "caxis": {
            "gridcolor": "white",
            "linecolor": "white",
            "ticks": ""
           }
          },
          "title": {
           "x": 0.05
          },
          "xaxis": {
           "automargin": true,
           "gridcolor": "white",
           "linecolor": "white",
           "ticks": "",
           "title": {
            "standoff": 15
           },
           "zerolinecolor": "white",
           "zerolinewidth": 2
          },
          "yaxis": {
           "automargin": true,
           "gridcolor": "white",
           "linecolor": "white",
           "ticks": "",
           "title": {
            "standoff": 15
           },
           "zerolinecolor": "white",
           "zerolinewidth": 2
          }
         }
        },
        "xaxis": {
         "anchor": "y",
         "domain": [
          0,
          1
         ],
         "title": {
          "text": "x"
         }
        },
        "yaxis": {
         "anchor": "x",
         "domain": [
          0,
          1
         ],
         "title": {
          "text": "count"
         }
        }
       }
      }
     },
     "metadata": {},
     "output_type": "display_data"
    }
   ],
   "source": [
    "fig = px.histogram(x_test, x=y_test)\n",
    "fig.show()"
   ]
  },
  {
   "cell_type": "code",
   "execution_count": 6,
   "metadata": {},
   "outputs": [],
   "source": [
    "def create_data(x_train,y_train):\n",
    "    listimage = []\n",
    "    \n",
    "    for i in range(len(x_train)):\n",
    "        path = x_train['path'].iloc[i]\n",
    "\n",
    "        image = cv2.imread(path)\n",
    "        image = cv2.resize(image,(128,128),interpolation=cv2.INTER_AREA)\n",
    "        #image = cv2.cvtColor(image, cv2.COLOR_RGB2GRAY) \n",
    "     \n",
    "        listimage.append(image)\n",
    "       \n",
    "            \n",
    "    \n",
    "    return  listimage\n",
    "\n",
    "x_train_resize = create_data(x_train,y_train)\n",
    "\n",
    "x_train_resize_1 = np.array(x_train_resize)\n",
    "\n",
    "\n",
    "len(x_train_resize_1)\n",
    "\n",
    "x_test_resize = create_data(x_test,y_test)\n",
    "\n",
    "x_test_resize_1 = np.array(x_test_resize)"
   ]
  },
  {
   "cell_type": "code",
   "execution_count": 7,
   "metadata": {},
   "outputs": [],
   "source": [
    "aug1 = iaa.GaussianBlur(sigma = (0,1))\n",
    "aug10 = iaa.AdditiveGaussianNoise(loc = 0 , scale = (0,1) , per_channel= True )\n",
    "aug2 = iaa.Emboss(alpha = (1), strength = 1.5)\n",
    "aug3 = iaa.Sharpen(alpha = (1.0) , lightness = (1.5))\n",
    "aug4 = iaa.Crop(px=(0, 16))\n",
    "#aug5 = iaa.ShearX((-20, 20))\n",
    "aug6 = iaa.ImpulseNoise(0.1)\n",
    "#aug7 = iaa.ScaleX((0.5, 1.5))\n",
    "aug8 = iaa.LinearContrast((0.4, 1.6))\n",
    "#aug9 = iaa.Solarize(0.5, threshold=(32, 128))"
   ]
  },
  {
   "cell_type": "code",
   "execution_count": 8,
   "metadata": {},
   "outputs": [],
   "source": [
    "def augment(data,data1):\n",
    "    aug_X_train = []\n",
    "    aug_y_train = []\n",
    "    for i  in range(len(data)):\n",
    "        aug_X_train.append(data[i])\n",
    "        \n",
    "        aug_X_train.append(aug1.augment_image(data[i]))\n",
    "        aug_X_train.append(aug10.augment_image(data[i]))\n",
    "        aug_X_train.append(aug3.augment_image(data[i]))\n",
    "       \n",
    "        aug_X_train.append(aug6.augment_image(data[i]))\n",
    "        \n",
    "        \n",
    "        for j in range(5):\n",
    "            aug_y_train.append(data1[i])\n",
    "\n",
    "\n",
    "    return   aug_X_train,aug_y_train\n",
    "\n",
    "\n",
    "x_train_aug,aug_y_train = augment(x_train_resize_1,y_train)\n",
    "len(x_train_aug),len(aug_y_train),type(x_train_aug), type(aug_y_train)\n",
    "x_train_aug_2 = np.array(x_train_aug,dtype = 'float32')\n",
    "\n",
    "aug_y_train_1 = np.array(aug_y_train ,dtype ='float32')\n",
    "y_test = np.array(y_test ,dtype ='float32')"
   ]
  },
  {
   "cell_type": "code",
   "execution_count": 9,
   "metadata": {},
   "outputs": [],
   "source": [
    "def normalization(train,test):\n",
    "    mean = np.mean(train)\n",
    "    std = np.mean(test)\n",
    "    train = (train - mean)/std\n",
    "    test = (test -mean)/std\n",
    "    return train,test"
   ]
  },
  {
   "cell_type": "code",
   "execution_count": 10,
   "metadata": {},
   "outputs": [],
   "source": [
    "x_train,x_test = normalization(x_train_aug_2,x_test_resize_1)"
   ]
  },
  {
   "cell_type": "code",
   "execution_count": 11,
   "metadata": {},
   "outputs": [
    {
     "name": "stderr",
     "output_type": "stream",
     "text": [
      "Clipping input data to the valid range for imshow with RGB data ([0..1] for floats or [0..255] for integers).\n",
      "Clipping input data to the valid range for imshow with RGB data ([0..1] for floats or [0..255] for integers).\n",
      "Clipping input data to the valid range for imshow with RGB data ([0..1] for floats or [0..255] for integers).\n",
      "Clipping input data to the valid range for imshow with RGB data ([0..1] for floats or [0..255] for integers).\n",
      "Clipping input data to the valid range for imshow with RGB data ([0..1] for floats or [0..255] for integers).\n",
      "Clipping input data to the valid range for imshow with RGB data ([0..1] for floats or [0..255] for integers).\n",
      "Clipping input data to the valid range for imshow with RGB data ([0..1] for floats or [0..255] for integers).\n",
      "Clipping input data to the valid range for imshow with RGB data ([0..1] for floats or [0..255] for integers).\n",
      "Clipping input data to the valid range for imshow with RGB data ([0..1] for floats or [0..255] for integers).\n",
      "Clipping input data to the valid range for imshow with RGB data ([0..1] for floats or [0..255] for integers).\n",
      "Clipping input data to the valid range for imshow with RGB data ([0..1] for floats or [0..255] for integers).\n",
      "Clipping input data to the valid range for imshow with RGB data ([0..1] for floats or [0..255] for integers).\n",
      "Clipping input data to the valid range for imshow with RGB data ([0..1] for floats or [0..255] for integers).\n",
      "Clipping input data to the valid range for imshow with RGB data ([0..1] for floats or [0..255] for integers).\n",
      "Clipping input data to the valid range for imshow with RGB data ([0..1] for floats or [0..255] for integers).\n",
      "Clipping input data to the valid range for imshow with RGB data ([0..1] for floats or [0..255] for integers).\n",
      "Clipping input data to the valid range for imshow with RGB data ([0..1] for floats or [0..255] for integers).\n",
      "Clipping input data to the valid range for imshow with RGB data ([0..1] for floats or [0..255] for integers).\n",
      "Clipping input data to the valid range for imshow with RGB data ([0..1] for floats or [0..255] for integers).\n",
      "Clipping input data to the valid range for imshow with RGB data ([0..1] for floats or [0..255] for integers).\n",
      "Clipping input data to the valid range for imshow with RGB data ([0..1] for floats or [0..255] for integers).\n",
      "Clipping input data to the valid range for imshow with RGB data ([0..1] for floats or [0..255] for integers).\n",
      "Clipping input data to the valid range for imshow with RGB data ([0..1] for floats or [0..255] for integers).\n",
      "Clipping input data to the valid range for imshow with RGB data ([0..1] for floats or [0..255] for integers).\n",
      "Clipping input data to the valid range for imshow with RGB data ([0..1] for floats or [0..255] for integers).\n"
     ]
    },
    {
     "data": {
      "image/png": "[encoded data removed]",
      "text/plain": [
       "<Figure size 640x480 with 25 Axes>"
      ]
     },
     "metadata": {},
     "output_type": "display_data"
    },
    {
     "name": "stderr",
     "output_type": "stream",
     "text": [
      "Clipping input data to the valid range for imshow with RGB data ([0..1] for floats or [0..255] for integers).\n",
      "Clipping input data to the valid range for imshow with RGB data ([0..1] for floats or [0..255] for integers).\n",
      "Clipping input data to the valid range for imshow with RGB data ([0..1] for floats or [0..255] for integers).\n",
      "Clipping input data to the valid range for imshow with RGB data ([0..1] for floats or [0..255] for integers).\n",
      "Clipping input data to the valid range for imshow with RGB data ([0..1] for floats or [0..255] for integers).\n",
      "Clipping input data to the valid range for imshow with RGB data ([0..1] for floats or [0..255] for integers).\n",
      "Clipping input data to the valid range for imshow with RGB data ([0..1] for floats or [0..255] for integers).\n",
      "Clipping input data to the valid range for imshow with RGB data ([0..1] for floats or [0..255] for integers).\n",
      "Clipping input data to the valid range for imshow with RGB data ([0..1] for floats or [0..255] for integers).\n",
      "Clipping input data to the valid range for imshow with RGB data ([0..1] for floats or [0..255] for integers).\n",
      "Clipping input data to the valid range for imshow with RGB data ([0..1] for floats or [0..255] for integers).\n",
      "Clipping input data to the valid range for imshow with RGB data ([0..1] for floats or [0..255] for integers).\n",
      "Clipping input data to the valid range for imshow with RGB data ([0..1] for floats or [0..255] for integers).\n",
      "Clipping input data to the valid range for imshow with RGB data ([0..1] for floats or [0..255] for integers).\n",
      "Clipping input data to the valid range for imshow with RGB data ([0..1] for floats or [0..255] for integers).\n"
     ]
    },
    {
     "data": {
      "image/png": "[encoded data removed]",
      "text/plain": [
       "<Figure size 640x480 with 15 Axes>"
      ]
     },
     "metadata": {},
     "output_type": "display_data"
    }
   ],
   "source": [
    "for i in range(25):\n",
    "  plt.subplot(5,5,i+1)\n",
    "  plt.imshow((x_train[i]))\n",
    "\n",
    "plt.show()\n",
    "\n",
    "\n",
    "for i in range(15):\n",
    "  plt.subplot(5,5,i+1)\n",
    "  plt.imshow(x_test[i])\n",
    "\n",
    "plt.show()"
   ]
  },
  {
   "cell_type": "code",
   "execution_count": 12,
   "metadata": {},
   "outputs": [
    {
     "data": {
      "text/plain": [
       "((2590, 128, 128, 3), -5.2238636e-07, -0.0532937, 1.6958814, 1.5075747)"
      ]
     },
     "execution_count": 12,
     "metadata": {},
     "output_type": "execute_result"
    }
   ],
   "source": [
    "x_train.shape , np.mean(x_train), np.mean(x_test) , np.var(x_train) , np.var(x_test)"
   ]
  },
  {
   "cell_type": "code",
   "execution_count": 13,
   "metadata": {},
   "outputs": [
    {
     "name": "stderr",
     "output_type": "stream",
     "text": [
      "Failed to detect the name of this notebook, you can set it manually with the WANDB_NOTEBOOK_NAME environment variable to enable code saving.\n",
      "\u001b[34m\u001b[1mwandb\u001b[0m: Currently logged in as: \u001b[33mavinashdixit94\u001b[0m (\u001b[33mwarlord\u001b[0m). Use \u001b[1m`wandb login --relogin`\u001b[0m to force relogin\n"
     ]
    },
    {
     "data": {
      "text/plain": [
       "True"
      ]
     },
     "execution_count": 13,
     "metadata": {},
     "output_type": "execute_result"
    }
   ],
   "source": [
    "import wandb\n",
    "wandb.login()"
   ]
  },
  {
   "cell_type": "code",
   "execution_count": 14,
   "metadata": {},
   "outputs": [
    {
     "data": {
      "application/vnd.jupyter.widget-view+json": {
       "model_id": "95d2c78f9fd14d07abe08b2ab9b481d4",
       "version_major": 2,
       "version_minor": 0
      },
      "text/plain": [
       "VBox(children=(Label(value='Waiting for wandb.init()...\\r'), FloatProgress(value=0.016666666666666666, max=1.0…"
      ]
     },
     "metadata": {},
     "output_type": "display_data"
    },
    {
     "data": {
      "text/html": [
       "Tracking run with wandb version 0.14.0"
      ],
      "text/plain": [
       "<IPython.core.display.HTML object>"
      ]
     },
     "metadata": {},
     "output_type": "display_data"
    },
    {
     "data": {
      "text/html": [
       "Run data is saved locally in <code>c:\\Users\\avina\\HAR_END_TO_END\\notebook\\data\\wandb\\run-20230405_192400-ap44udba</code>"
      ],
      "text/plain": [
       "<IPython.core.display.HTML object>"
      ]
     },
     "metadata": {},
     "output_type": "display_data"
    },
    {
     "data": {
      "text/html": [
       "Syncing run <strong><a href='https://wandb.ai/warlord/keras-intro/runs/ap44udba' target=\"_blank\">futile-canamar-2</a></strong> to <a href='https://wandb.ai/warlord/keras-intro' target=\"_blank\">Weights & Biases</a> (<a href='https://wandb.me/run' target=\"_blank\">docs</a>)<br/>"
      ],
      "text/plain": [
       "<IPython.core.display.HTML object>"
      ]
     },
     "metadata": {},
     "output_type": "display_data"
    },
    {
     "data": {
      "text/html": [
       " View project at <a href='https://wandb.ai/warlord/keras-intro' target=\"_blank\">https://wandb.ai/warlord/keras-intro</a>"
      ],
      "text/plain": [
       "<IPython.core.display.HTML object>"
      ]
     },
     "metadata": {},
     "output_type": "display_data"
    },
    {
     "data": {
      "text/html": [
       " View run at <a href='https://wandb.ai/warlord/keras-intro/runs/ap44udba' target=\"_blank\">https://wandb.ai/warlord/keras-intro/runs/ap44udba</a>"
      ],
      "text/plain": [
       "<IPython.core.display.HTML object>"
      ]
     },
     "metadata": {},
     "output_type": "display_data"
    }
   ],
   "source": [
    "wandb.init(\n",
    "        project=\"keras-intro\",\n",
    "        # (optional) set entity to specify your username or team name\n",
    "        # entity=\"my_team\",\n",
    "        config={\n",
    "            \n",
    "            \"activation_1\": \"relu\",\n",
    "            \n",
    "            \"layer_2\": 11,\n",
    "            \"activation_2\": \"softmax\",\n",
    "            \"optimizer\": \"ADAM\",\n",
    "            \"loss\": \"sparse_categorical_crossentropy\",\n",
    "            \"metric\": \"accuracy\",\n",
    "            \"epoch\": 5,\n",
    "            \"batch_size\": 128,\n",
    "        },\n",
    "    )\n",
    "config = wandb.config"
   ]
  },
  {
   "cell_type": "code",
   "execution_count": 15,
   "metadata": {},
   "outputs": [
    {
     "name": "stdout",
     "output_type": "stream",
     "text": [
      "Model: \"model\"\n",
      "__________________________________________________________________________________________________\n",
      " Layer (type)                   Output Shape         Param #     Connected to                     \n",
      "==================================================================================================\n",
      " input_1 (InputLayer)           [(None, 128, 128, 3  0           []                               \n",
      "                                )]                                                                \n",
      "                                                                                                  \n",
      " conv2d (Conv2D)                (None, 64, 64, 128)  1664        ['input_1[0][0]']                \n",
      "                                                                                                  \n",
      " activation (Activation)        (None, 64, 64, 128)  0           ['conv2d[0][0]']                 \n",
      "                                                                                                  \n",
      " batch_normalization (BatchNorm  (None, 64, 64, 128)  512        ['activation[0][0]']             \n",
      " alization)                                                                                       \n",
      "                                                                                                  \n",
      " depthwise_conv2d (DepthwiseCon  (None, 64, 64, 128)  3328       ['batch_normalization[0][0]']    \n",
      " v2D)                                                                                             \n",
      "                                                                                                  \n",
      " activation_1 (Activation)      (None, 64, 64, 128)  0           ['depthwise_conv2d[0][0]']       \n",
      "                                                                                                  \n",
      " batch_normalization_1 (BatchNo  (None, 64, 64, 128)  512        ['activation_1[0][0]']           \n",
      " rmalization)                                                                                     \n",
      "                                                                                                  \n",
      " add (Add)                      (None, 64, 64, 128)  0           ['batch_normalization_1[0][0]',  \n",
      "                                                                  'batch_normalization[0][0]']    \n",
      "                                                                                                  \n",
      " conv2d_1 (Conv2D)              (None, 64, 64, 128)  16512       ['add[0][0]']                    \n",
      "                                                                                                  \n",
      " activation_2 (Activation)      (None, 64, 64, 128)  0           ['conv2d_1[0][0]']               \n",
      "                                                                                                  \n",
      " batch_normalization_2 (BatchNo  (None, 64, 64, 128)  512        ['activation_2[0][0]']           \n",
      " rmalization)                                                                                     \n",
      "                                                                                                  \n",
      " depthwise_conv2d_1 (DepthwiseC  (None, 64, 64, 128)  3328       ['batch_normalization_2[0][0]']  \n",
      " onv2D)                                                                                           \n",
      "                                                                                                  \n",
      " activation_3 (Activation)      (None, 64, 64, 128)  0           ['depthwise_conv2d_1[0][0]']     \n",
      "                                                                                                  \n",
      " batch_normalization_3 (BatchNo  (None, 64, 64, 128)  512        ['activation_3[0][0]']           \n",
      " rmalization)                                                                                     \n",
      "                                                                                                  \n",
      " add_1 (Add)                    (None, 64, 64, 128)  0           ['batch_normalization_3[0][0]',  \n",
      "                                                                  'batch_normalization_2[0][0]']  \n",
      "                                                                                                  \n",
      " conv2d_2 (Conv2D)              (None, 64, 64, 128)  16512       ['add_1[0][0]']                  \n",
      "                                                                                                  \n",
      " activation_4 (Activation)      (None, 64, 64, 128)  0           ['conv2d_2[0][0]']               \n",
      "                                                                                                  \n",
      " batch_normalization_4 (BatchNo  (None, 64, 64, 128)  512        ['activation_4[0][0]']           \n",
      " rmalization)                                                                                     \n",
      "                                                                                                  \n",
      " global_average_pooling2d (Glob  (None, 128)         0           ['batch_normalization_4[0][0]']  \n",
      " alAveragePooling2D)                                                                              \n",
      "                                                                                                  \n",
      " dense (Dense)                  (None, 11)           1419        ['global_average_pooling2d[0][0]'\n",
      "                                                                 ]                                \n",
      "                                                                                                  \n",
      "==================================================================================================\n",
      "Total params: 45,323\n",
      "Trainable params: 44,043\n",
      "Non-trainable params: 1,280\n",
      "__________________________________________________________________________________________________\n"
     ]
    }
   ],
   "source": [
    "learning_rate = 0.001\n",
    "weight_decay = 0.0001\n",
    "batch_size = 128\n",
    "num_epochs = 10\n",
    "\n",
    "def activation_block(x):\n",
    "    return layers.BatchNormalization()(layers.Activation(config.activation_2)(x))\n",
    "\n",
    "\n",
    "def conv_stem(x, filters:int, patch_size:int):\n",
    "    x = layers.Conv2D(filters,kernel_size = patch_size, strides = patch_size)(x)\n",
    "    return activation_block(x)\n",
    "\n",
    "\n",
    "def conv_mixer_block(x,filters:int,kernel_size:int):\n",
    "    x0=x\n",
    "    x = layers.DepthwiseConv2D(kernel_size = kernel_size , padding ='same')(x)\n",
    "    #x = layers.Dropout(0.5)(x)\n",
    "    x = layers.Add()([activation_block(x),x0])\n",
    "    \n",
    "    x = layers.Conv2D(filters, kernel_size =1)(x)\n",
    "    x=activation_block(x)\n",
    "    return x\n",
    "\n",
    "\n",
    "def get_conv_mixer_256_8(image_size =72,filters =128 , depth=2,kernel_size =5,patch_size=2,num_classes=11):\n",
    "    inputs = keras.Input((128,128,3))\n",
    "    x = conv_stem(inputs,filters,patch_size)\n",
    "    for _ in range(depth):\n",
    "        x = conv_mixer_block(x,filters,kernel_size)\n",
    "    x = layers.GlobalAvgPool2D()(x)\n",
    "    #x = layers.Dropout(0.5)(x)\n",
    "    outputs = layers.Dense(config.layer_2, activation=config.activation_2)(x)\n",
    "    return keras.Model(inputs, outputs)\n",
    "\n",
    "\n",
    "conv_mixer_model = get_conv_mixer_256_8()\n",
    "conv_mixer_model.summary()\n",
    "\n",
    "\n"
   ]
  },
  {
   "cell_type": "code",
   "execution_count": 16,
   "metadata": {},
   "outputs": [
    {
     "name": "stderr",
     "output_type": "stream",
     "text": [
      "c:\\Users\\avina\\Anaconda\\lib\\site-packages\\keras\\optimizers\\optimizer_v2\\adam.py:114: UserWarning:\n",
      "\n",
      "The `lr` argument is deprecated, use `learning_rate` instead.\n",
      "\n"
     ]
    }
   ],
   "source": [
    "conv_mixer_model.compile(\n",
    "        optimizer = keras.optimizers.Adam(lr=1e-03, decay=1e-6),\n",
    "        loss=config.loss, metrics=[config.metric],\n",
    "    )"
   ]
  },
  {
   "cell_type": "code",
   "execution_count": 17,
   "metadata": {},
   "outputs": [],
   "source": [
    "from wandb.keras import WandbMetricsLogger, WandbModelCheckpoint\n",
    "wandb_callbacks = [\n",
    "        WandbMetricsLogger(),\n",
    "        WandbModelCheckpoint(filepath=\"C:\\\\Users\\\\avina\\\\HAR_END_TO_END\\\\my_model_{epoch:02d}\"),\n",
    "    ]"
   ]
  },
  {
   "cell_type": "code",
   "execution_count": 18,
   "metadata": {},
   "outputs": [
    {
     "name": "stdout",
     "output_type": "stream",
     "text": [
      "Epoch 1/5\n",
      "WARNING:tensorflow:AutoGraph could not transform <function Model.make_train_function.<locals>.train_function at 0x000002252B05A9D0> and will run it as-is.\n",
      "Please report this to the TensorFlow team. When filing the bug, set the verbosity to 10 (on Linux, `export AUTOGRAPH_VERBOSITY=10`) and attach the full output.\n",
      "Cause: cannot import name 'soft_unicode' from 'markupsafe' (C:\\Users\\avina\\AppData\\Roaming\\Python\\Python39\\site-packages\\markupsafe\\__init__.py)\n",
      "To silence this warning, decorate the function with @tf.autograph.experimental.do_not_convert\n",
      "WARNING: AutoGraph could not transform <function Model.make_train_function.<locals>.train_function at 0x000002252B05A9D0> and will run it as-is.\n",
      "Please report this to the TensorFlow team. When filing the bug, set the verbosity to 10 (on Linux, `export AUTOGRAPH_VERBOSITY=10`) and attach the full output.\n",
      "Cause: cannot import name 'soft_unicode' from 'markupsafe' (C:\\Users\\avina\\AppData\\Roaming\\Python\\Python39\\site-packages\\markupsafe\\__init__.py)\n",
      "To silence this warning, decorate the function with @tf.autograph.experimental.do_not_convert\n",
      " 6/81 [=>............................] - ETA: 9s - loss: 2.3953 - accuracy: 0.1458WARNING:tensorflow:Callback method `on_train_batch_end` is slow compared to the batch time (batch time: 0.0468s vs `on_train_batch_end` time: 0.0611s). Check your callbacks.\n",
      "81/81 [==============================] - ETA: 0s - loss: 2.3078 - accuracy: 0.1548"
     ]
    },
    {
     "name": "stderr",
     "output_type": "stream",
     "text": [
      "WARNING:absl:Found untraced functions such as _jit_compiled_convolution_op, _jit_compiled_convolution_op, _jit_compiled_convolution_op, _jit_compiled_convolution_op, _jit_compiled_convolution_op while saving (showing 5 of 5). These functions will not be directly callable after loading.\n"
     ]
    },
    {
     "name": "stdout",
     "output_type": "stream",
     "text": [
      "INFO:tensorflow:Assets written to: C:\\Users\\avina\\HAR_END_TO_END\\my_model_01\\assets\n"
     ]
    },
    {
     "name": "stderr",
     "output_type": "stream",
     "text": [
      "INFO:tensorflow:Assets written to: C:\\Users\\avina\\HAR_END_TO_END\\my_model_01\\assets\n",
      "\u001b[34m\u001b[1mwandb\u001b[0m: Adding directory to artifact (C:\\Users\\avina\\HAR_END_TO_END\\my_model_01)... Done. 0.0s\n"
     ]
    },
    {
     "name": "stdout",
     "output_type": "stream",
     "text": [
      "81/81 [==============================] - 16s 159ms/step - loss: 2.3078 - accuracy: 0.1548 - val_loss: 2.4010 - val_accuracy: 0.0923\n",
      "Epoch 2/5\n",
      "81/81 [==============================] - ETA: 0s - loss: 2.0567 - accuracy: 0.2629"
     ]
    },
    {
     "name": "stderr",
     "output_type": "stream",
     "text": [
      "WARNING:absl:Found untraced functions such as _jit_compiled_convolution_op, _jit_compiled_convolution_op, _jit_compiled_convolution_op, _jit_compiled_convolution_op, _jit_compiled_convolution_op while saving (showing 5 of 5). These functions will not be directly callable after loading.\n"
     ]
    },
    {
     "name": "stdout",
     "output_type": "stream",
     "text": [
      "INFO:tensorflow:Assets written to: C:\\Users\\avina\\HAR_END_TO_END\\my_model_02\\assets\n"
     ]
    },
    {
     "name": "stderr",
     "output_type": "stream",
     "text": [
      "INFO:tensorflow:Assets written to: C:\\Users\\avina\\HAR_END_TO_END\\my_model_02\\assets\n",
      "\u001b[34m\u001b[1mwandb\u001b[0m: Adding directory to artifact (C:\\Users\\avina\\HAR_END_TO_END\\my_model_02)... Done. 0.0s\n"
     ]
    },
    {
     "name": "stdout",
     "output_type": "stream",
     "text": [
      "81/81 [==============================] - 13s 164ms/step - loss: 2.0567 - accuracy: 0.2629 - val_loss: 2.4342 - val_accuracy: 0.0923\n",
      "Epoch 3/5\n",
      "81/81 [==============================] - ETA: 0s - loss: 1.8696 - accuracy: 0.3270"
     ]
    },
    {
     "name": "stderr",
     "output_type": "stream",
     "text": [
      "WARNING:absl:Found untraced functions such as _jit_compiled_convolution_op, _jit_compiled_convolution_op, _jit_compiled_convolution_op, _jit_compiled_convolution_op, _jit_compiled_convolution_op while saving (showing 5 of 5). These functions will not be directly callable after loading.\n"
     ]
    },
    {
     "name": "stdout",
     "output_type": "stream",
     "text": [
      "INFO:tensorflow:Assets written to: C:\\Users\\avina\\HAR_END_TO_END\\my_model_03\\assets\n"
     ]
    },
    {
     "name": "stderr",
     "output_type": "stream",
     "text": [
      "INFO:tensorflow:Assets written to: C:\\Users\\avina\\HAR_END_TO_END\\my_model_03\\assets\n",
      "\u001b[34m\u001b[1mwandb\u001b[0m: Adding directory to artifact (C:\\Users\\avina\\HAR_END_TO_END\\my_model_03)... Done. 0.0s\n"
     ]
    },
    {
     "name": "stdout",
     "output_type": "stream",
     "text": [
      "81/81 [==============================] - 13s 164ms/step - loss: 1.8696 - accuracy: 0.3270 - val_loss: 2.5335 - val_accuracy: 0.0846\n",
      "Epoch 4/5\n",
      "81/81 [==============================] - ETA: 0s - loss: 1.6979 - accuracy: 0.4077"
     ]
    },
    {
     "name": "stderr",
     "output_type": "stream",
     "text": [
      "WARNING:absl:Found untraced functions such as _jit_compiled_convolution_op, _jit_compiled_convolution_op, _jit_compiled_convolution_op, _jit_compiled_convolution_op, _jit_compiled_convolution_op while saving (showing 5 of 5). These functions will not be directly callable after loading.\n"
     ]
    },
    {
     "name": "stdout",
     "output_type": "stream",
     "text": [
      "INFO:tensorflow:Assets written to: C:\\Users\\avina\\HAR_END_TO_END\\my_model_04\\assets\n"
     ]
    },
    {
     "name": "stderr",
     "output_type": "stream",
     "text": [
      "INFO:tensorflow:Assets written to: C:\\Users\\avina\\HAR_END_TO_END\\my_model_04\\assets\n",
      "\u001b[34m\u001b[1mwandb\u001b[0m: Adding directory to artifact (C:\\Users\\avina\\HAR_END_TO_END\\my_model_04)... Done. 0.0s\n"
     ]
    },
    {
     "name": "stdout",
     "output_type": "stream",
     "text": [
      "81/81 [==============================] - 14s 170ms/step - loss: 1.6979 - accuracy: 0.4077 - val_loss: 2.6585 - val_accuracy: 0.0846\n",
      "Epoch 5/5\n",
      "81/81 [==============================] - ETA: 0s - loss: 1.5346 - accuracy: 0.4819"
     ]
    },
    {
     "name": "stderr",
     "output_type": "stream",
     "text": [
      "WARNING:absl:Found untraced functions such as _jit_compiled_convolution_op, _jit_compiled_convolution_op, _jit_compiled_convolution_op, _jit_compiled_convolution_op, _jit_compiled_convolution_op while saving (showing 5 of 5). These functions will not be directly callable after loading.\n"
     ]
    },
    {
     "name": "stdout",
     "output_type": "stream",
     "text": [
      "INFO:tensorflow:Assets written to: C:\\Users\\avina\\HAR_END_TO_END\\my_model_05\\assets\n"
     ]
    },
    {
     "name": "stderr",
     "output_type": "stream",
     "text": [
      "INFO:tensorflow:Assets written to: C:\\Users\\avina\\HAR_END_TO_END\\my_model_05\\assets\n",
      "\u001b[34m\u001b[1mwandb\u001b[0m: Adding directory to artifact (C:\\Users\\avina\\HAR_END_TO_END\\my_model_05)... Done. 0.0s\n"
     ]
    },
    {
     "name": "stdout",
     "output_type": "stream",
     "text": [
      "81/81 [==============================] - 13s 164ms/step - loss: 1.5346 - accuracy: 0.4819 - val_loss: 2.9524 - val_accuracy: 0.0846\n"
     ]
    },
    {
     "data": {
      "text/html": [
       "Waiting for W&B process to finish... <strong style=\"color:green\">(success).</strong>"
      ],
      "text/plain": [
       "<IPython.core.display.HTML object>"
      ]
     },
     "metadata": {},
     "output_type": "display_data"
    },
    {
     "data": {
      "text/html": [
       "<style>\n",
       "    table.wandb td:nth-child(1) { padding: 0 10px; text-align: left ; width: auto;} td:nth-child(2) {text-align: left ; width: 100%}\n",
       "    .wandb-row { display: flex; flex-direction: row; flex-wrap: wrap; justify-content: flex-start; width: 100% }\n",
       "    .wandb-col { display: flex; flex-direction: column; flex-basis: 100%; flex: 1; padding: 10px; }\n",
       "    </style>\n",
       "<div class=\"wandb-row\"><div class=\"wandb-col\"><h3>Run history:</h3><br/><table class=\"wandb\"><tr><td>epoch/accuracy</td><td>▁▃▅▆█</td></tr><tr><td>epoch/epoch</td><td>▁▃▅▆█</td></tr><tr><td>epoch/learning_rate</td><td>▁▁▁▁▁</td></tr><tr><td>epoch/loss</td><td>█▆▄▂▁</td></tr><tr><td>epoch/val_accuracy</td><td>██▁▁▁</td></tr><tr><td>epoch/val_loss</td><td>▁▁▃▄█</td></tr></table><br/></div><div class=\"wandb-col\"><h3>Run summary:</h3><br/><table class=\"wandb\"><tr><td>epoch/accuracy</td><td>0.48185</td></tr><tr><td>epoch/epoch</td><td>4</td></tr><tr><td>epoch/learning_rate</td><td>0.001</td></tr><tr><td>epoch/loss</td><td>1.53461</td></tr><tr><td>epoch/val_accuracy</td><td>0.08462</td></tr><tr><td>epoch/val_loss</td><td>2.95236</td></tr></table><br/></div></div>"
      ],
      "text/plain": [
       "<IPython.core.display.HTML object>"
      ]
     },
     "metadata": {},
     "output_type": "display_data"
    },
    {
     "data": {
      "text/html": [
       " View run <strong style=\"color:#cdcd00\">futile-canamar-2</strong> at: <a href='https://wandb.ai/warlord/keras-intro/runs/ap44udba' target=\"_blank\">https://wandb.ai/warlord/keras-intro/runs/ap44udba</a><br/>Synced 6 W&B file(s), 0 media file(s), 20 artifact file(s) and 0 other file(s)"
      ],
      "text/plain": [
       "<IPython.core.display.HTML object>"
      ]
     },
     "metadata": {},
     "output_type": "display_data"
    },
    {
     "data": {
      "text/html": [
       "Find logs at: <code>.\\wandb\\run-20230405_192400-ap44udba\\logs</code>"
      ],
      "text/plain": [
       "<IPython.core.display.HTML object>"
      ]
     },
     "metadata": {},
     "output_type": "display_data"
    }
   ],
   "source": [
    "conv_mixer_model.fit(\n",
    "    x_train,\n",
    "    aug_y_train_1,\n",
    "    epochs=config.epoch,\n",
    "    \n",
    "    verbose=1, # Suppress chatty output\n",
    "    callbacks=wandb_callbacks,\n",
    "    validation_data=(x_test,y_test),\n",
    ")\n",
    "\n",
    "    # Mark the run as finished\n",
    "wandb.finish()"
   ]
  },
  {
   "cell_type": "code",
   "execution_count": 25,
   "metadata": {},
   "outputs": [
    {
     "data": {
      "text/plain": [
       "'2.10.0'"
      ]
     },
     "execution_count": 25,
     "metadata": {},
     "output_type": "execute_result"
    }
   ],
   "source": [
    "tf.__version__"
   ]
  },
  {
   "cell_type": "code",
   "execution_count": null,
   "metadata": {},
   "outputs": [],
   "source": []
  }
 ],
 "metadata": {
  "kernelspec": {
   "display_name": "base",
   "language": "python",
   "name": "python3"
  },
  "language_info": {
   "codemirror_mode": {
    "name": "ipython",
    "version": 3
   },
   "file_extension": ".py",
   "mimetype": "text/x-python",
   "name": "python",
   "nbconvert_exporter": "python",
   "pygments_lexer": "ipython3",
   "version": "3.9.13"
  },
  "orig_nbformat": 4
 },
 "nbformat": 4,
 "nbformat_minor": 2
}
